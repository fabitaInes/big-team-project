{
 "cells": [
  {
   "cell_type": "markdown",
   "metadata": {
    "tags": []
   },
   "source": [
    "# Funciones Python basadas en Power BI"
   ]
  },
  {
   "cell_type": "markdown",
   "metadata": {},
   "source": [
    "## Importacion de librerias y del documento excel para trabajar todas las funciones"
   ]
  },
  {
   "cell_type": "code",
   "execution_count": 1,
   "metadata": {},
   "outputs": [],
   "source": [
    "# Imports\n",
    "import scripts.widgets as widgets\n",
    "from scripts.Main import Main\n",
    "from scripts.Date import Date\n",
    "from scripts.Time import Time\n",
    "from scripts.Round import Round"
   ]
  },
  {
   "cell_type": "code",
   "execution_count": 2,
   "metadata": {},
   "outputs": [],
   "source": [
    "# Seleccion del excel para importar\n",
    "main = Main('Ventas-Totales-Detalladas.xlsx')"
   ]
  },
  {
   "cell_type": "code",
   "execution_count": 3,
   "metadata": {},
   "outputs": [],
   "source": [
    "# Obtencion del excel como dataframe\n",
    "df = main.get_df()"
   ]
  },
  {
   "cell_type": "markdown",
   "metadata": {},
   "source": [
    "## Funciones de redondeo"
   ]
  },
  {
   "cell_type": "code",
   "execution_count": 5,
   "metadata": {},
   "outputs": [],
   "source": [
    "# Seleccion de las columnas solo de tipo float\n",
    "date_type_columns = df.select_dtypes('float64')\n",
    "columns = list(date_type_columns)"
   ]
  },
  {
   "cell_type": "code",
   "execution_count": 6,
   "metadata": {},
   "outputs": [
    {
     "data": {
      "application/vnd.jupyter.widget-view+json": {
       "model_id": "578ee35704ac4d64a41643cc302a7d21",
       "version_major": 2,
       "version_minor": 0
      },
      "text/plain": [
       "Dropdown(description='Column Name:', options=('Familia', 'Serie', 'Característica 3 cliente', 'Característica …"
      ]
     },
     "metadata": {},
     "output_type": "display_data"
    }
   ],
   "source": [
    "# Despliegue del combo para seleccionar columna\n",
    "menu = widgets.dropdown(columns,'Column Name:')\n",
    "menu"
   ]
  },
  {
   "cell_type": "code",
   "execution_count": 7,
   "metadata": {},
   "outputs": [],
   "source": [
    "# Redondeo al numero impar mas cercano\n",
    "rounding = Round(df)\n",
    "#rounding.round_even(menu.value)"
   ]
  },
  {
   "cell_type": "code",
   "execution_count": 8,
   "metadata": {},
   "outputs": [],
   "source": [
    "# Redondeo al numero par mas cercano\n",
    "rounding = Round(df)\n",
    "#rounding.round_odd(menu.value)"
   ]
  },
  {
   "cell_type": "markdown",
   "metadata": {},
   "source": [
    "## Funciones de tipo Date"
   ]
  },
  {
   "cell_type": "code",
   "execution_count": 9,
   "metadata": {},
   "outputs": [],
   "source": [
    "# Seleccion de las columnas solo de tipo date\n",
    "date_type_columns = df.select_dtypes('datetime64[ns]')\n",
    "columns = list(date_type_columns)"
   ]
  },
  {
   "cell_type": "code",
   "execution_count": 10,
   "metadata": {},
   "outputs": [
    {
     "data": {
      "application/vnd.jupyter.widget-view+json": {
       "model_id": "8b3f3a36099141899757c247377e4214",
       "version_major": 2,
       "version_minor": 0
      },
      "text/plain": [
       "Dropdown(description='Column Name:', options=('Nombre mes',), value='Nombre mes')"
      ]
     },
     "metadata": {},
     "output_type": "display_data"
    }
   ],
   "source": [
    "# Despliegue del combo para seleccionar columna\n",
    "menu = widgets.dropdown(columns,'Column Name:')\n",
    "menu"
   ]
  },
  {
   "cell_type": "code",
   "execution_count": 11,
   "metadata": {},
   "outputs": [
    {
     "data": {
      "text/plain": [
       "0       2016\n",
       "1       2016\n",
       "2       2016\n",
       "3       2016\n",
       "4       2016\n",
       "        ... \n",
       "2094    2016\n",
       "2095    2016\n",
       "2096    2016\n",
       "2097    2016\n",
       "2098    2016\n",
       "Name: Nombre mes, Length: 2099, dtype: int64"
      ]
     },
     "execution_count": 11,
     "metadata": {},
     "output_type": "execute_result"
    }
   ],
   "source": [
    "# Extraccion del anio de la columna seleccionada\n",
    "date = Date(df)\n",
    "date.extract_year(menu.value)"
   ]
  },
  {
   "cell_type": "code",
   "execution_count": 12,
   "metadata": {},
   "outputs": [
    {
     "data": {
      "text/plain": [
       "0       1\n",
       "1       1\n",
       "2       1\n",
       "3       1\n",
       "4       1\n",
       "       ..\n",
       "2094    3\n",
       "2095    4\n",
       "2096    4\n",
       "2097    4\n",
       "2098    4\n",
       "Name: Nombre mes, Length: 2099, dtype: int64"
      ]
     },
     "execution_count": 12,
     "metadata": {},
     "output_type": "execute_result"
    }
   ],
   "source": [
    "# Extraccion del mes de la columna seleccionada\n",
    "date.extract_month(menu.value)"
   ]
  },
  {
   "cell_type": "code",
   "execution_count": 13,
   "metadata": {},
   "outputs": [
    {
     "data": {
      "text/plain": [
       "0       1\n",
       "1       1\n",
       "2       1\n",
       "3       1\n",
       "4       1\n",
       "       ..\n",
       "2094    3\n",
       "2095    4\n",
       "2096    4\n",
       "2097    4\n",
       "2098    4\n",
       "Name: Nombre mes, Length: 2099, dtype: int64"
      ]
     },
     "execution_count": 13,
     "metadata": {},
     "output_type": "execute_result"
    }
   ],
   "source": [
    "# Extraccion del dia de la columna seleccionada\n",
    "date.extract_day(menu.value)"
   ]
  },
  {
   "cell_type": "code",
   "execution_count": 14,
   "metadata": {},
   "outputs": [
    {
     "name": "stderr",
     "output_type": "stream",
     "text": [
      "/home/fflores/UTO_master_ds/modulo-1_Introduccion/big-team-project/scripts/Date.py:25: FutureWarning: Series.dt.weekofyear and Series.dt.week have been deprecated.  Please use Series.dt.isocalendar().week instead.\n",
      "  result = self.df[column_name].dt.week\n"
     ]
    },
    {
     "data": {
      "text/plain": [
       "0       53\n",
       "1       53\n",
       "2       53\n",
       "3       53\n",
       "4       53\n",
       "        ..\n",
       "2094     9\n",
       "2095    14\n",
       "2096    14\n",
       "2097    14\n",
       "2098    14\n",
       "Name: Nombre mes, Length: 2099, dtype: int64"
      ]
     },
     "execution_count": 14,
     "metadata": {},
     "output_type": "execute_result"
    }
   ],
   "source": [
    "# Extraccion de la semana de la columna seleccionada\n",
    "date.extract_week(menu.value)"
   ]
  },
  {
   "cell_type": "code",
   "execution_count": 15,
   "metadata": {},
   "outputs": [
    {
     "data": {
      "text/plain": [
       "0       1\n",
       "1       1\n",
       "2       1\n",
       "3       1\n",
       "4       1\n",
       "       ..\n",
       "2094    1\n",
       "2095    2\n",
       "2096    2\n",
       "2097    2\n",
       "2098    2\n",
       "Name: Nombre mes, Length: 2099, dtype: int64"
      ]
     },
     "execution_count": 15,
     "metadata": {},
     "output_type": "execute_result"
    }
   ],
   "source": [
    "# Extraccion del trimestre de la columna seleccionada\n",
    "date.extract_quarter(menu.value)"
   ]
  },
  {
   "cell_type": "markdown",
   "metadata": {},
   "source": [
    "## Funciones de tipo Time"
   ]
  },
  {
   "cell_type": "code",
   "execution_count": 16,
   "metadata": {},
   "outputs": [],
   "source": [
    "# Conversion de la columna Fecha en datetime\n",
    "df = df.astype({\"Fecha\": 'datetime64[ns]'})"
   ]
  },
  {
   "cell_type": "code",
   "execution_count": 17,
   "metadata": {},
   "outputs": [],
   "source": [
    "# Seleccion de las columnas solo de tipo date\n",
    "date_type_columns = df.select_dtypes('datetime64[ns]')\n",
    "columns = list(date_type_columns)"
   ]
  },
  {
   "cell_type": "code",
   "execution_count": 18,
   "metadata": {},
   "outputs": [
    {
     "data": {
      "application/vnd.jupyter.widget-view+json": {
       "model_id": "3b905251711940d6b48fa08fb04fb37f",
       "version_major": 2,
       "version_minor": 0
      },
      "text/plain": [
       "Dropdown(description='Column Name:', options=('Fecha', 'Nombre mes'), value='Fecha')"
      ]
     },
     "metadata": {},
     "output_type": "display_data"
    }
   ],
   "source": [
    "# Despliegue del combo para seleccionar columna\n",
    "menu = widgets.dropdown(columns,'Column Name:')\n",
    "menu"
   ]
  },
  {
   "cell_type": "code",
   "execution_count": 19,
   "metadata": {},
   "outputs": [
    {
     "data": {
      "text/plain": [
       "0       0\n",
       "1       0\n",
       "2       0\n",
       "3       0\n",
       "4       0\n",
       "       ..\n",
       "2094    0\n",
       "2095    0\n",
       "2096    0\n",
       "2097    0\n",
       "2098    0\n",
       "Name: Fecha, Length: 2099, dtype: int64"
      ]
     },
     "execution_count": 19,
     "metadata": {},
     "output_type": "execute_result"
    }
   ],
   "source": [
    "# Extraccion de la hora de la columna seleccionada\n",
    "time = Time(df)\n",
    "time.extract_hour(menu.value)"
   ]
  },
  {
   "cell_type": "code",
   "execution_count": 20,
   "metadata": {},
   "outputs": [
    {
     "data": {
      "text/plain": [
       "0       0\n",
       "1       0\n",
       "2       0\n",
       "3       0\n",
       "4       0\n",
       "       ..\n",
       "2094    0\n",
       "2095    0\n",
       "2096    0\n",
       "2097    0\n",
       "2098    0\n",
       "Name: Fecha, Length: 2099, dtype: int64"
      ]
     },
     "execution_count": 20,
     "metadata": {},
     "output_type": "execute_result"
    }
   ],
   "source": [
    "# Extraccion del minuto de la columna seleccionada\n",
    "time.extract_minute(menu.value)"
   ]
  },
  {
   "cell_type": "code",
   "execution_count": 21,
   "metadata": {},
   "outputs": [
    {
     "data": {
      "text/plain": [
       "0       0\n",
       "1       0\n",
       "2       0\n",
       "3       0\n",
       "4       0\n",
       "       ..\n",
       "2094    0\n",
       "2095    0\n",
       "2096    0\n",
       "2097    0\n",
       "2098    0\n",
       "Name: Fecha, Length: 2099, dtype: int64"
      ]
     },
     "execution_count": 21,
     "metadata": {},
     "output_type": "execute_result"
    }
   ],
   "source": [
    "# Extraccion del segundo de la columna seleccionada\n",
    "time.extract_second(menu.value)"
   ]
  }
 ],
 "metadata": {
  "kernelspec": {
   "display_name": "Python 3",
   "language": "python",
   "name": "python3"
  },
  "language_info": {
   "codemirror_mode": {
    "name": "ipython",
    "version": 3
   },
   "file_extension": ".py",
   "mimetype": "text/x-python",
   "name": "python",
   "nbconvert_exporter": "python",
   "pygments_lexer": "ipython3",
   "version": "3.8.8"
  }
 },
 "nbformat": 4,
 "nbformat_minor": 4
}
