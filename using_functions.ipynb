{
 "cells": [
  {
   "cell_type": "code",
   "execution_count": 1,
   "metadata": {
    "tags": []
   },
   "outputs": [],
   "source": [
    "# Imports\n",
    "import scripts.widgets as widgets\n",
    "from scripts.Main import Main\n",
    "from scripts.Date import Date"
   ]
  },
  {
   "cell_type": "code",
   "execution_count": 2,
   "metadata": {},
   "outputs": [],
   "source": [
    "# Seleccion del excel para importar\n",
    "main = Main('Ventas-Totales-Detalladas.xlsx')"
   ]
  },
  {
   "cell_type": "code",
   "execution_count": 3,
   "metadata": {},
   "outputs": [],
   "source": [
    "# Obtencion del excel como dataframe\n",
    "df = main.get_df()"
   ]
  },
  {
   "cell_type": "code",
   "execution_count": 4,
   "metadata": {},
   "outputs": [],
   "source": [
    "# Seleccion de las columnas solo de tipo date\n",
    "date_type_columns = df.select_dtypes('datetime64[ns]')\n",
    "columns = list(date_type_columns)"
   ]
  },
  {
   "cell_type": "code",
   "execution_count": 7,
   "metadata": {},
   "outputs": [
    {
     "data": {
      "application/vnd.jupyter.widget-view+json": {
       "model_id": "fd0e7f9ad6cf4ac58a12c828e45a7eae",
       "version_major": 2,
       "version_minor": 0
      },
      "text/plain": [
       "Dropdown(description='Column Name:', options=('Nombre mes',), value='Nombre mes')"
      ]
     },
     "metadata": {},
     "output_type": "display_data"
    }
   ],
   "source": [
    "# Despliegue del combo para seleccionar columna\n",
    "menu = widgets.dropdown(columns,'Column Name:')\n",
    "menu"
   ]
  },
  {
   "cell_type": "code",
   "execution_count": 8,
   "metadata": {},
   "outputs": [
    {
     "data": {
      "text/plain": [
       "0       2016\n",
       "1       2016\n",
       "2       2016\n",
       "3       2016\n",
       "4       2016\n",
       "        ... \n",
       "2094    2016\n",
       "2095    2016\n",
       "2096    2016\n",
       "2097    2016\n",
       "2098    2016\n",
       "Name: Nombre mes, Length: 2099, dtype: int64"
      ]
     },
     "execution_count": 8,
     "metadata": {},
     "output_type": "execute_result"
    }
   ],
   "source": [
    "# Extraccion del anio de la columna seleccionada\n",
    "date = Date(df)\n",
    "date.extract_year(menu.value)"
   ]
  },
  {
   "cell_type": "code",
   "execution_count": 9,
   "metadata": {},
   "outputs": [
    {
     "data": {
      "text/plain": [
       "0       1\n",
       "1       1\n",
       "2       1\n",
       "3       1\n",
       "4       1\n",
       "       ..\n",
       "2094    3\n",
       "2095    4\n",
       "2096    4\n",
       "2097    4\n",
       "2098    4\n",
       "Name: Nombre mes, Length: 2099, dtype: int64"
      ]
     },
     "execution_count": 9,
     "metadata": {},
     "output_type": "execute_result"
    }
   ],
   "source": [
    "# Extraccion del mes de la columna seleccionada\n",
    "date.extract_month(menu.value)"
   ]
  },
  {
   "cell_type": "code",
   "execution_count": 10,
   "metadata": {},
   "outputs": [
    {
     "data": {
      "text/plain": [
       "0       1\n",
       "1       1\n",
       "2       1\n",
       "3       1\n",
       "4       1\n",
       "       ..\n",
       "2094    3\n",
       "2095    4\n",
       "2096    4\n",
       "2097    4\n",
       "2098    4\n",
       "Name: Nombre mes, Length: 2099, dtype: int64"
      ]
     },
     "execution_count": 10,
     "metadata": {},
     "output_type": "execute_result"
    }
   ],
   "source": [
    "# Extraccion del dia de la columna seleccionada\n",
    "date.extract_day(menu.value)"
   ]
  },
  {
   "cell_type": "code",
   "execution_count": 12,
   "metadata": {},
   "outputs": [
    {
     "name": "stderr",
     "output_type": "stream",
     "text": [
      "/home/fflores/UTO_master_ds/modulo-1_Introduccion/big-team-project/scripts/Date.py:25: FutureWarning: Series.dt.weekofyear and Series.dt.week have been deprecated.  Please use Series.dt.isocalendar().week instead.\n",
      "  result = self.df[column_name].dt.week\n"
     ]
    },
    {
     "data": {
      "text/plain": [
       "0       53\n",
       "1       53\n",
       "2       53\n",
       "3       53\n",
       "4       53\n",
       "        ..\n",
       "2094     9\n",
       "2095    14\n",
       "2096    14\n",
       "2097    14\n",
       "2098    14\n",
       "Name: Nombre mes, Length: 2099, dtype: int64"
      ]
     },
     "execution_count": 12,
     "metadata": {},
     "output_type": "execute_result"
    }
   ],
   "source": [
    "# Extraccion de la semana de la columna seleccionada\n",
    "date.extract_week(menu.value)"
   ]
  },
  {
   "cell_type": "code",
   "execution_count": 13,
   "metadata": {},
   "outputs": [
    {
     "data": {
      "text/plain": [
       "0       1\n",
       "1       1\n",
       "2       1\n",
       "3       1\n",
       "4       1\n",
       "       ..\n",
       "2094    1\n",
       "2095    2\n",
       "2096    2\n",
       "2097    2\n",
       "2098    2\n",
       "Name: Nombre mes, Length: 2099, dtype: int64"
      ]
     },
     "execution_count": 13,
     "metadata": {},
     "output_type": "execute_result"
    }
   ],
   "source": [
    "# Extraccion del trimestre de la columna seleccionada\n",
    "date.extract_quarter(menu.value)"
   ]
  }
 ],
 "metadata": {
  "kernelspec": {
   "display_name": "Python 3",
   "language": "python",
   "name": "python3"
  },
  "language_info": {
   "codemirror_mode": {
    "name": "ipython",
    "version": 3
   },
   "file_extension": ".py",
   "mimetype": "text/x-python",
   "name": "python",
   "nbconvert_exporter": "python",
   "pygments_lexer": "ipython3",
   "version": "3.8.8"
  }
 },
 "nbformat": 4,
 "nbformat_minor": 4
}
