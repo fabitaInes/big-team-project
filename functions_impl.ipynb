{
 "cells": [
  {
   "cell_type": "code",
   "execution_count": 1,
   "id": "bc904a9b-b689-4f30-b1fa-a5606aebd244",
   "metadata": {},
   "outputs": [],
   "source": [
    "from scripts.functions import PowerBiFunctions"
   ]
  },
  {
   "cell_type": "code",
   "execution_count": 2,
   "id": "5ad3ed5a-d149-47de-a5e7-31a2bcc4eb8a",
   "metadata": {},
   "outputs": [],
   "source": [
    "pbf = PowerBiFunctions('Ventas-Totales-Detalladas.xlsx')"
   ]
  },
  {
   "cell_type": "code",
   "execution_count": 3,
   "id": "d3fbd5c2-ab87-404e-ae74-d66497a4d7c7",
   "metadata": {},
   "outputs": [
    {
     "data": {
      "text/plain": [
       "7865227.92"
      ]
     },
     "execution_count": 3,
     "metadata": {},
     "output_type": "execute_result"
    }
   ],
   "source": [
    "pbf.sum(column_name='Neto')"
   ]
  },
  {
   "cell_type": "code",
   "execution_count": null,
   "id": "c1ee45d1-46eb-4021-8602-211468a068f8",
   "metadata": {},
   "outputs": [],
   "source": []
  }
 ],
 "metadata": {
  "kernelspec": {
   "display_name": "Python 3",
   "language": "python",
   "name": "python3"
  },
  "language_info": {
   "codemirror_mode": {
    "name": "ipython",
    "version": 3
   },
   "file_extension": ".py",
   "mimetype": "text/x-python",
   "name": "python",
   "nbconvert_exporter": "python",
   "pygments_lexer": "ipython3",
   "version": "3.9.4"
  }
 },
 "nbformat": 4,
 "nbformat_minor": 5
}