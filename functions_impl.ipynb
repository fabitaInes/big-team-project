{
 "cells": [
  {
   "cell_type": "code",
   "execution_count": 32,
   "id": "ecacc10a",
   "metadata": {},
   "outputs": [],
   "source": [
    "from scripts.functions import PowerBiFunctions\n",
    "import numpy as np\n",
    "import pandas as pd\n"
   ]
  },
  {
   "cell_type": "code",
   "execution_count": 67,
   "id": "3bdbb2f5",
   "metadata": {},
   "outputs": [
    {
     "data": {
      "text/plain": [
       "[2, 3, 3, 2]"
      ]
     },
     "execution_count": 67,
     "metadata": {},
     "output_type": "execute_result"
    }
   ],
   "source": [
    "pbf = PowerBiFunctions('Ventas-Totales-Detalladas.xlsx')"
   ]
  },
  {
   "cell_type": "code",
   "execution_count": 40,
   "id": "20c0fd9e",
   "metadata": {},
   "outputs": [
    {
     "ename": "NameError",
     "evalue": "name 'pbf' is not defined",
     "output_type": "error",
     "traceback": [
      "\u001b[1;31m---------------------------------------------------------------------------\u001b[0m",
      "\u001b[1;31mNameError\u001b[0m                                 Traceback (most recent call last)",
      "\u001b[1;32m<ipython-input-40-8417e414aaac>\u001b[0m in \u001b[0;36m<module>\u001b[1;34m\u001b[0m\n\u001b[1;32m----> 1\u001b[1;33m \u001b[0mpbf\u001b[0m\u001b[1;33m.\u001b[0m\u001b[0msum\u001b[0m\u001b[1;33m(\u001b[0m\u001b[0mcolumn_name\u001b[0m\u001b[1;33m=\u001b[0m\u001b[1;34m'Neto'\u001b[0m\u001b[1;33m)\u001b[0m\u001b[1;33m\u001b[0m\u001b[1;33m\u001b[0m\u001b[0m\n\u001b[0m",
      "\u001b[1;31mNameError\u001b[0m: name 'pbf' is not defined"
     ]
    }
   ],
   "source": [
    "pbf.sum(column_name='Neto')"
   ]
  },
  {
   "cell_type": "code",
   "execution_count": 41,
   "id": "df4cc865",
   "metadata": {},
   "outputs": [
    {
     "ename": "NameError",
     "evalue": "name 'pbf' is not defined",
     "output_type": "error",
     "traceback": [
      "\u001b[1;31m---------------------------------------------------------------------------\u001b[0m",
      "\u001b[1;31mNameError\u001b[0m                                 Traceback (most recent call last)",
      "\u001b[1;32m<ipython-input-41-68f727c4d62e>\u001b[0m in \u001b[0;36m<module>\u001b[1;34m\u001b[0m\n\u001b[1;32m----> 1\u001b[1;33m \u001b[0mpbf\u001b[0m\u001b[1;33m.\u001b[0m\u001b[0mget_column_names\u001b[0m\u001b[1;33m(\u001b[0m\u001b[1;33m)\u001b[0m\u001b[1;33m\u001b[0m\u001b[1;33m\u001b[0m\u001b[0m\n\u001b[0m",
      "\u001b[1;31mNameError\u001b[0m: name 'pbf' is not defined"
     ]
    }
   ],
   "source": [
    "pbf.get_column_names()"
   ]
  },
  {
   "cell_type": "code",
   "execution_count": 42,
   "id": "b6fdd32b",
   "metadata": {},
   "outputs": [
    {
     "ename": "NameError",
     "evalue": "name 'pbf' is not defined",
     "output_type": "error",
     "traceback": [
      "\u001b[1;31m---------------------------------------------------------------------------\u001b[0m",
      "\u001b[1;31mNameError\u001b[0m                                 Traceback (most recent call last)",
      "\u001b[1;32m<ipython-input-42-e477779afa47>\u001b[0m in \u001b[0;36m<module>\u001b[1;34m\u001b[0m\n\u001b[1;32m----> 1\u001b[1;33m \u001b[0mpbf\u001b[0m\u001b[1;33m.\u001b[0m\u001b[0mget_head\u001b[0m\u001b[1;33m(\u001b[0m\u001b[1;33m)\u001b[0m\u001b[1;33m\u001b[0m\u001b[1;33m\u001b[0m\u001b[0m\n\u001b[0m",
      "\u001b[1;31mNameError\u001b[0m: name 'pbf' is not defined"
     ]
    }
   ],
   "source": [
    "pbf.get_head()"
   ]
  },
  {
   "cell_type": "code",
   "execution_count": 43,
   "id": "60649e7c",
   "metadata": {},
   "outputs": [
    {
     "ename": "NameError",
     "evalue": "name 'pbf' is not defined",
     "output_type": "error",
     "traceback": [
      "\u001b[1;31m---------------------------------------------------------------------------\u001b[0m",
      "\u001b[1;31mNameError\u001b[0m                                 Traceback (most recent call last)",
      "\u001b[1;32m<ipython-input-43-0c269cb01247>\u001b[0m in \u001b[0;36m<module>\u001b[1;34m\u001b[0m\n\u001b[1;32m----> 1\u001b[1;33m \u001b[0mpbf\u001b[0m\u001b[1;33m.\u001b[0m\u001b[0mmultiply\u001b[0m\u001b[1;33m(\u001b[0m\u001b[1;34m'Neto'\u001b[0m\u001b[1;33m,\u001b[0m \u001b[1;33m-\u001b[0m\u001b[1;36m1\u001b[0m\u001b[1;33m)\u001b[0m\u001b[1;33m\u001b[0m\u001b[1;33m\u001b[0m\u001b[0m\n\u001b[0m",
      "\u001b[1;31mNameError\u001b[0m: name 'pbf' is not defined"
     ]
    }
   ],
   "source": [
    "pbf.multiply('Neto', -1)"
   ]
  },
  {
   "cell_type": "code",
   "execution_count": 17,
   "id": "e5e18c1c",
   "metadata": {},
   "outputs": [
    {
     "ename": "NameError",
     "evalue": "name 'pbf' is not defined",
     "output_type": "error",
     "traceback": [
      "\u001b[1;31m---------------------------------------------------------------------------\u001b[0m",
      "\u001b[1;31mNameError\u001b[0m                                 Traceback (most recent call last)",
      "\u001b[1;32m<ipython-input-17-71a14b05831e>\u001b[0m in \u001b[0;36m<module>\u001b[1;34m\u001b[0m\n\u001b[1;32m----> 1\u001b[1;33m \u001b[0mpbf\u001b[0m\u001b[1;33m.\u001b[0m\u001b[0msubtract\u001b[0m\u001b[1;33m(\u001b[0m\u001b[1;34m'Neto'\u001b[0m\u001b[1;33m,\u001b[0m \u001b[1;36m10000\u001b[0m\u001b[1;33m)\u001b[0m\u001b[1;33m\u001b[0m\u001b[1;33m\u001b[0m\u001b[0m\n\u001b[0m",
      "\u001b[1;31mNameError\u001b[0m: name 'pbf' is not defined"
     ]
    }
   ],
   "source": [
    "pbf.subtract('Neto', 10000)"
   ]
  },
  {
   "cell_type": "code",
   "execution_count": 18,
   "id": "ef62c8e3",
   "metadata": {},
   "outputs": [
    {
     "ename": "NameError",
     "evalue": "name 'pbf' is not defined",
     "output_type": "error",
     "traceback": [
      "\u001b[1;31m---------------------------------------------------------------------------\u001b[0m",
      "\u001b[1;31mNameError\u001b[0m                                 Traceback (most recent call last)",
      "\u001b[1;32m<ipython-input-18-668704c8e215>\u001b[0m in \u001b[0;36m<module>\u001b[1;34m\u001b[0m\n\u001b[1;32m----> 1\u001b[1;33m \u001b[0mpbf\u001b[0m\u001b[1;33m.\u001b[0m\u001b[0mdivision\u001b[0m\u001b[1;33m(\u001b[0m\u001b[1;34m'Neto'\u001b[0m\u001b[1;33m,\u001b[0m \u001b[1;36m10\u001b[0m\u001b[1;33m)\u001b[0m\u001b[1;33m\u001b[0m\u001b[1;33m\u001b[0m\u001b[0m\n\u001b[0m",
      "\u001b[1;31mNameError\u001b[0m: name 'pbf' is not defined"
     ]
    }
   ],
   "source": [
    "pbf.division('Neto', 10)"
   ]
  },
  {
   "cell_type": "code",
   "execution_count": 19,
   "id": "627e5a73",
   "metadata": {},
   "outputs": [
    {
     "ename": "NameError",
     "evalue": "name 'pbf' is not defined",
     "output_type": "error",
     "traceback": [
      "\u001b[1;31m---------------------------------------------------------------------------\u001b[0m",
      "\u001b[1;31mNameError\u001b[0m                                 Traceback (most recent call last)",
      "\u001b[1;32m<ipython-input-19-641378b07eb8>\u001b[0m in \u001b[0;36m<module>\u001b[1;34m\u001b[0m\n\u001b[1;32m----> 1\u001b[1;33m \u001b[0mpbf\u001b[0m\u001b[1;33m.\u001b[0m\u001b[0mmodulo\u001b[0m\u001b[1;33m(\u001b[0m\u001b[1;34m'Neto'\u001b[0m\u001b[1;33m,\u001b[0m \u001b[1;36m2\u001b[0m\u001b[1;33m)\u001b[0m\u001b[1;33m\u001b[0m\u001b[1;33m\u001b[0m\u001b[0m\n\u001b[0m",
      "\u001b[1;31mNameError\u001b[0m: name 'pbf' is not defined"
     ]
    }
   ],
   "source": [
    "pbf.modulo('Neto', 2)"
   ]
  },
  {
   "cell_type": "code",
   "execution_count": 20,
   "id": "f5806f12",
   "metadata": {},
   "outputs": [
    {
     "ename": "NameError",
     "evalue": "name 'pbf' is not defined",
     "output_type": "error",
     "traceback": [
      "\u001b[1;31m---------------------------------------------------------------------------\u001b[0m",
      "\u001b[1;31mNameError\u001b[0m                                 Traceback (most recent call last)",
      "\u001b[1;32m<ipython-input-20-0b93471df1ed>\u001b[0m in \u001b[0;36m<module>\u001b[1;34m\u001b[0m\n\u001b[1;32m----> 1\u001b[1;33m \u001b[0mpbf\u001b[0m\u001b[1;33m.\u001b[0m\u001b[0mpercentage\u001b[0m\u001b[1;33m(\u001b[0m\u001b[1;34m'Neto'\u001b[0m\u001b[1;33m,\u001b[0m \u001b[1;36m1\u001b[0m\u001b[1;33m)\u001b[0m\u001b[1;33m\u001b[0m\u001b[1;33m\u001b[0m\u001b[0m\n\u001b[0m",
      "\u001b[1;31mNameError\u001b[0m: name 'pbf' is not defined"
     ]
    }
   ],
   "source": [
    "pbf.percentage('Neto', 1)"
   ]
  },
  {
   "cell_type": "code",
   "execution_count": 21,
   "id": "8cbf7f03",
   "metadata": {},
   "outputs": [
    {
     "ename": "NameError",
     "evalue": "name 'pbf' is not defined",
     "output_type": "error",
     "traceback": [
      "\u001b[1;31m---------------------------------------------------------------------------\u001b[0m",
      "\u001b[1;31mNameError\u001b[0m                                 Traceback (most recent call last)",
      "\u001b[1;32m<ipython-input-21-e970d2725401>\u001b[0m in \u001b[0;36m<module>\u001b[1;34m\u001b[0m\n\u001b[1;32m----> 1\u001b[1;33m \u001b[0mpbf\u001b[0m\u001b[1;33m.\u001b[0m\u001b[0msquare_root\u001b[0m\u001b[1;33m(\u001b[0m\u001b[1;34m'Neto'\u001b[0m\u001b[1;33m)\u001b[0m\u001b[1;33m\u001b[0m\u001b[1;33m\u001b[0m\u001b[0m\n\u001b[0m",
      "\u001b[1;31mNameError\u001b[0m: name 'pbf' is not defined"
     ]
    }
   ],
   "source": [
    "pbf.square_root('Neto')"
   ]
  },
  {
   "cell_type": "code",
   "execution_count": 22,
   "id": "0af337d2",
   "metadata": {},
   "outputs": [
    {
     "ename": "NameError",
     "evalue": "name 'pbf' is not defined",
     "output_type": "error",
     "traceback": [
      "\u001b[1;31m---------------------------------------------------------------------------\u001b[0m",
      "\u001b[1;31mNameError\u001b[0m                                 Traceback (most recent call last)",
      "\u001b[1;32m<ipython-input-22-2d40bc80fab1>\u001b[0m in \u001b[0;36m<module>\u001b[1;34m\u001b[0m\n\u001b[1;32m----> 1\u001b[1;33m \u001b[0mpbf\u001b[0m\u001b[1;33m.\u001b[0m\u001b[0mexponent\u001b[0m\u001b[1;33m(\u001b[0m\u001b[1;34m'Neto'\u001b[0m\u001b[1;33m)\u001b[0m\u001b[1;33m\u001b[0m\u001b[1;33m\u001b[0m\u001b[0m\n\u001b[0m",
      "\u001b[1;31mNameError\u001b[0m: name 'pbf' is not defined"
     ]
    }
   ],
   "source": [
    "pbf.exponent('Neto')"
   ]
  },
  {
   "cell_type": "code",
   "execution_count": 23,
   "id": "84116d80",
   "metadata": {},
   "outputs": [
    {
     "ename": "NameError",
     "evalue": "name 'pbf' is not defined",
     "output_type": "error",
     "traceback": [
      "\u001b[1;31m---------------------------------------------------------------------------\u001b[0m",
      "\u001b[1;31mNameError\u001b[0m                                 Traceback (most recent call last)",
      "\u001b[1;32m<ipython-input-23-ca52a4a4ca2b>\u001b[0m in \u001b[0;36m<module>\u001b[1;34m\u001b[0m\n\u001b[1;32m----> 1\u001b[1;33m \u001b[0mpbf\u001b[0m\u001b[1;33m.\u001b[0m\u001b[0mlogarithm_base10\u001b[0m\u001b[1;33m(\u001b[0m\u001b[1;34m'Neto'\u001b[0m\u001b[1;33m)\u001b[0m\u001b[1;33m\u001b[0m\u001b[1;33m\u001b[0m\u001b[0m\n\u001b[0m",
      "\u001b[1;31mNameError\u001b[0m: name 'pbf' is not defined"
     ]
    }
   ],
   "source": [
    "pbf.logarithm_base10('Neto')"
   ]
  },
  {
   "cell_type": "code",
   "execution_count": 24,
   "id": "fe3c504c",
   "metadata": {},
   "outputs": [
    {
     "ename": "NameError",
     "evalue": "name 'pbf' is not defined",
     "output_type": "error",
     "traceback": [
      "\u001b[1;31m---------------------------------------------------------------------------\u001b[0m",
      "\u001b[1;31mNameError\u001b[0m                                 Traceback (most recent call last)",
      "\u001b[1;32m<ipython-input-24-93cf14eb2394>\u001b[0m in \u001b[0;36m<module>\u001b[1;34m\u001b[0m\n\u001b[1;32m----> 1\u001b[1;33m \u001b[0mpbf\u001b[0m\u001b[1;33m.\u001b[0m\u001b[0mlogarithm_natural\u001b[0m\u001b[1;33m(\u001b[0m\u001b[1;34m'Neto'\u001b[0m\u001b[1;33m)\u001b[0m\u001b[1;33m\u001b[0m\u001b[1;33m\u001b[0m\u001b[0m\n\u001b[0m",
      "\u001b[1;31mNameError\u001b[0m: name 'pbf' is not defined"
     ]
    }
   ],
   "source": [
    "pbf.logarithm_natural('Neto')"
   ]
  },
  {
   "cell_type": "code",
   "execution_count": 25,
   "id": "1fdc1924",
   "metadata": {},
   "outputs": [
    {
     "ename": "NameError",
     "evalue": "name 'pbf' is not defined",
     "output_type": "error",
     "traceback": [
      "\u001b[1;31m---------------------------------------------------------------------------\u001b[0m",
      "\u001b[1;31mNameError\u001b[0m                                 Traceback (most recent call last)",
      "\u001b[1;32m<ipython-input-25-e1ac5f4cd9aa>\u001b[0m in \u001b[0;36m<module>\u001b[1;34m\u001b[0m\n\u001b[1;32m----> 1\u001b[1;33m \u001b[0mpbf\u001b[0m\u001b[1;33m.\u001b[0m\u001b[0mfactorial\u001b[0m\u001b[1;33m(\u001b[0m\u001b[1;34m'Neto'\u001b[0m\u001b[1;33m)\u001b[0m\u001b[1;33m\u001b[0m\u001b[1;33m\u001b[0m\u001b[0m\n\u001b[0m",
      "\u001b[1;31mNameError\u001b[0m: name 'pbf' is not defined"
     ]
    }
   ],
   "source": [
    "pbf.factorial('Neto')"
   ]
  },
  {
   "cell_type": "code",
   "execution_count": 26,
   "id": "ef060a64",
   "metadata": {},
   "outputs": [
    {
     "ename": "NameError",
     "evalue": "name 'pbf' is not defined",
     "output_type": "error",
     "traceback": [
      "\u001b[1;31m---------------------------------------------------------------------------\u001b[0m",
      "\u001b[1;31mNameError\u001b[0m                                 Traceback (most recent call last)",
      "\u001b[1;32m<ipython-input-26-bbec210f939b>\u001b[0m in \u001b[0;36m<module>\u001b[1;34m\u001b[0m\n\u001b[1;32m----> 1\u001b[1;33m \u001b[0mpbf\u001b[0m\u001b[1;33m.\u001b[0m\u001b[0msine\u001b[0m\u001b[1;33m(\u001b[0m\u001b[1;34m'Neto'\u001b[0m\u001b[1;33m)\u001b[0m\u001b[1;33m\u001b[0m\u001b[1;33m\u001b[0m\u001b[0m\n\u001b[0m",
      "\u001b[1;31mNameError\u001b[0m: name 'pbf' is not defined"
     ]
    }
   ],
   "source": [
    "pbf.sine('Neto')"
   ]
  },
  {
   "cell_type": "code",
   "execution_count": 17,
   "id": "47d1579c",
   "metadata": {},
   "outputs": [
    {
     "data": {
      "text/plain": [
       "0       0.303692\n",
       "1       0.844988\n",
       "2       0.315973\n",
       "3       0.280517\n",
       "4      -0.460051\n",
       "          ...   \n",
       "2094    0.579715\n",
       "2095   -0.951385\n",
       "2096    0.579715\n",
       "2097   -0.483360\n",
       "2098    0.594947\n",
       "Name: Neto, Length: 2099, dtype: float64"
      ]
     },
     "execution_count": 17,
     "metadata": {},
     "output_type": "execute_result"
    }
   ],
   "source": [
    "pbf.cosine('Neto')"
   ]
  },
  {
   "cell_type": "code",
   "execution_count": 18,
   "id": "efdd8f29",
   "metadata": {},
   "outputs": [
    {
     "data": {
      "text/plain": [
       "0       3.137294\n",
       "1       0.632892\n",
       "2       3.002689\n",
       "3      -3.421717\n",
       "4       1.929987\n",
       "          ...   \n",
       "2094    1.405552\n",
       "2095   -0.323743\n",
       "2096    1.405552\n",
       "2097    1.811117\n",
       "2098    1.350985\n",
       "Name: Neto, Length: 2099, dtype: float64"
      ]
     },
     "execution_count": 18,
     "metadata": {},
     "output_type": "execute_result"
    }
   ],
   "source": [
    "pbf.tangent('Neto')"
   ]
  },
  {
   "cell_type": "code",
   "execution_count": 19,
   "id": "92d5c9a3",
   "metadata": {},
   "outputs": [
    {
     "name": "stderr",
     "output_type": "stream",
     "text": [
      "/home/fflores/anaconda3/envs/uto_2021/lib/python3.9/site-packages/pandas/core/arraylike.py:358: RuntimeWarning: invalid value encountered in arcsin\n",
      "  result = getattr(ufunc, method)(*inputs, **kwargs)\n"
     ]
    },
    {
     "data": {
      "text/plain": [
       "0      NaN\n",
       "1      NaN\n",
       "2      NaN\n",
       "3      NaN\n",
       "4      NaN\n",
       "        ..\n",
       "2094   NaN\n",
       "2095   NaN\n",
       "2096   NaN\n",
       "2097   NaN\n",
       "2098   NaN\n",
       "Name: Neto, Length: 2099, dtype: float64"
      ]
     },
     "execution_count": 19,
     "metadata": {},
     "output_type": "execute_result"
    }
   ],
   "source": [
    "pbf.arcsine('Neto')"
   ]
  },
  {
   "cell_type": "code",
   "execution_count": 20,
   "id": "70bcb61b",
   "metadata": {},
   "outputs": [
    {
     "name": "stderr",
     "output_type": "stream",
     "text": [
      "/home/fflores/anaconda3/envs/uto_2021/lib/python3.9/site-packages/pandas/core/arraylike.py:358: RuntimeWarning: invalid value encountered in arccos\n",
      "  result = getattr(ufunc, method)(*inputs, **kwargs)\n"
     ]
    },
    {
     "data": {
      "text/plain": [
       "0      NaN\n",
       "1      NaN\n",
       "2      NaN\n",
       "3      NaN\n",
       "4      NaN\n",
       "        ..\n",
       "2094   NaN\n",
       "2095   NaN\n",
       "2096   NaN\n",
       "2097   NaN\n",
       "2098   NaN\n",
       "Name: Neto, Length: 2099, dtype: float64"
      ]
     },
     "execution_count": 20,
     "metadata": {},
     "output_type": "execute_result"
    }
   ],
   "source": [
    "pbf.arccosine('Neto')"
   ]
  },
  {
   "cell_type": "code",
   "execution_count": 21,
   "id": "94e5616d",
   "metadata": {},
   "outputs": [
    {
     "data": {
      "text/plain": [
       "0       1.570498\n",
       "1       1.570334\n",
       "2       1.570680\n",
       "3       1.569794\n",
       "4       1.570690\n",
       "          ...   \n",
       "2094    1.570070\n",
       "2095    1.569863\n",
       "2096    1.570070\n",
       "2097    1.570044\n",
       "2098    1.570212\n",
       "Name: Neto, Length: 2099, dtype: float64"
      ]
     },
     "execution_count": 21,
     "metadata": {},
     "output_type": "execute_result"
    }
   ],
   "source": [
    "pbf.arctangent('Neto')"
   ]
  },
  {
   "cell_type": "code",
   "execution_count": 22,
   "id": "23176d62",
   "metadata": {},
   "outputs": [
    {
     "data": {
      "text/plain": [
       "3747.130976655563"
      ]
     },
     "execution_count": 22,
     "metadata": {},
     "output_type": "execute_result"
    }
   ],
   "source": [
    "pbf.average('Neto')"
   ]
  },
  {
   "cell_type": "code",
   "execution_count": 23,
   "id": "61f2281b",
   "metadata": {},
   "outputs": [
    {
     "data": {
      "text/plain": [
       "2065.45"
      ]
     },
     "execution_count": 23,
     "metadata": {},
     "output_type": "execute_result"
    }
   ],
   "source": [
    "pbf.media('Neto')"
   ]
  },
  {
   "cell_type": "code",
   "execution_count": 24,
   "id": "12bd9ef9",
   "metadata": {},
   "outputs": [
    {
     "data": {
      "text/plain": [
       "4130.916825250074"
      ]
     },
     "execution_count": 24,
     "metadata": {},
     "output_type": "execute_result"
    }
   ],
   "source": [
    "pbf.standard_deviation('Neto')"
   ]
  },
  {
   "cell_type": "code",
   "execution_count": 25,
   "id": "e88b4cae",
   "metadata": {},
   "outputs": [
    {
     "data": {
      "text/plain": [
       "2099"
      ]
     },
     "execution_count": 25,
     "metadata": {},
     "output_type": "execute_result"
    }
   ],
   "source": [
    "pbf.count('Neto')"
   ]
  },
  {
   "cell_type": "code",
   "execution_count": 26,
   "id": "17609049",
   "metadata": {},
   "outputs": [
    {
     "data": {
      "text/plain": [
       "1034"
      ]
     },
     "execution_count": 26,
     "metadata": {},
     "output_type": "execute_result"
    }
   ],
   "source": [
    "pbf.count_distinct_values('Neto')"
   ]
  },
  {
   "cell_type": "code",
   "execution_count": 27,
   "id": "a40d0cab-be7f-4575-820c-3acacafdae77",
   "metadata": {},
   "outputs": [],
   "source": [
    "#pbf.choose_columns(['Repesentante','Cliente'])"
   ]
  },
  {
   "cell_type": "code",
   "execution_count": 28,
   "id": "b9d6dcc4-1e67-4e2d-b5d9-c2d5dbff6134",
   "metadata": {},
   "outputs": [],
   "source": [
    "#pbf.remove_columns(['Repesentante','Cliente'])"
   ]
  },
  {
   "cell_type": "code",
   "execution_count": 29,
   "id": "4a732404-2f34-45d8-ba50-a3152dc17d30",
   "metadata": {},
   "outputs": [],
   "source": [
    "#pbf.keep_top_rows(10)"
   ]
  },
  {
   "cell_type": "code",
   "execution_count": 30,
   "id": "7df7d382-5d31-4533-92ac-de85edf780ad",
   "metadata": {},
   "outputs": [],
   "source": [
    "#pbf.keep_tail_rows(10)"
   ]
  },
  {
   "cell_type": "code",
   "execution_count": 31,
   "id": "dd6e9abc-a044-474d-b06d-b73ae8506ead",
   "metadata": {},
   "outputs": [],
   "source": [
    "#pbf.keep_range_rows(0,50)"
   ]
  },
  {
   "cell_type": "code",
   "execution_count": 32,
   "id": "7977d7c9-3277-4e3e-96d0-cc1d6af6946a",
   "metadata": {},
   "outputs": [
    {
     "data": {
      "text/html": [
       "<div>\n",
       "<style scoped>\n",
       "    .dataframe tbody tr th:only-of-type {\n",
       "        vertical-align: middle;\n",
       "    }\n",
       "\n",
       "    .dataframe tbody tr th {\n",
       "        vertical-align: top;\n",
       "    }\n",
       "\n",
       "    .dataframe thead th {\n",
       "        text-align: right;\n",
       "    }\n",
       "</style>\n",
       "<table border=\"1\" class=\"dataframe\">\n",
       "  <thead>\n",
       "    <tr style=\"text-align: right;\">\n",
       "      <th></th>\n",
       "      <th>CODCLI</th>\n",
       "      <th>CODART</th>\n",
       "      <th>Repesentante</th>\n",
       "      <th>Cliente</th>\n",
       "      <th>Pais</th>\n",
       "      <th>Comunidad autónoma</th>\n",
       "      <th>Provincia</th>\n",
       "      <th>Zona</th>\n",
       "      <th>Artículo</th>\n",
       "      <th>Familia</th>\n",
       "      <th>...</th>\n",
       "      <th>Campo parametrizable 6</th>\n",
       "      <th>Campo parametrizable 7</th>\n",
       "      <th>Campo parametrizable 8</th>\n",
       "      <th>Campo parametrizable 9</th>\n",
       "      <th>Neto</th>\n",
       "      <th>Bruto</th>\n",
       "      <th>Unidades</th>\n",
       "      <th>nombre</th>\n",
       "      <th>materno</th>\n",
       "      <th>paterno</th>\n",
       "    </tr>\n",
       "  </thead>\n",
       "  <tbody>\n",
       "    <tr>\n",
       "      <th>0</th>\n",
       "      <td>3</td>\n",
       "      <td>1</td>\n",
       "      <td>Fernando Gómez Garcia</td>\n",
       "      <td>DEPORTES REUNIDOS, S.L.</td>\n",
       "      <td>ESPAÑA</td>\n",
       "      <td>MADRID</td>\n",
       "      <td>MADRID</td>\n",
       "      <td>Centro</td>\n",
       "      <td>Bicicleta carrera</td>\n",
       "      <td>NaN</td>\n",
       "      <td>...</td>\n",
       "      <td>NaN</td>\n",
       "      <td>NaN</td>\n",
       "      <td>NaN</td>\n",
       "      <td>NaN</td>\n",
       "      <td>3350.20</td>\n",
       "      <td>4408.16</td>\n",
       "      <td>8</td>\n",
       "      <td>Fernando</td>\n",
       "      <td>Gómez</td>\n",
       "      <td>Garcia</td>\n",
       "    </tr>\n",
       "    <tr>\n",
       "      <th>1</th>\n",
       "      <td>3</td>\n",
       "      <td>2</td>\n",
       "      <td>Fernando Gómez Garcia</td>\n",
       "      <td>DEPORTES REUNIDOS, S.L.</td>\n",
       "      <td>ESPAÑA</td>\n",
       "      <td>MADRID</td>\n",
       "      <td>MADRID</td>\n",
       "      <td>Centro</td>\n",
       "      <td>Bicicleta mountain infantil</td>\n",
       "      <td>NaN</td>\n",
       "      <td>...</td>\n",
       "      <td>NaN</td>\n",
       "      <td>NaN</td>\n",
       "      <td>NaN</td>\n",
       "      <td>NaN</td>\n",
       "      <td>2161.98</td>\n",
       "      <td>2573.78</td>\n",
       "      <td>22</td>\n",
       "      <td>Fernando</td>\n",
       "      <td>Gómez</td>\n",
       "      <td>Garcia</td>\n",
       "    </tr>\n",
       "    <tr>\n",
       "      <th>2</th>\n",
       "      <td>3</td>\n",
       "      <td>5</td>\n",
       "      <td>Fernando Gómez Garcia</td>\n",
       "      <td>DEPORTES REUNIDOS, S.L.</td>\n",
       "      <td>ESPAÑA</td>\n",
       "      <td>MADRID</td>\n",
       "      <td>MADRID</td>\n",
       "      <td>Centro</td>\n",
       "      <td>Bicicleta carrera mod. B</td>\n",
       "      <td>NaN</td>\n",
       "      <td>...</td>\n",
       "      <td>NaN</td>\n",
       "      <td>NaN</td>\n",
       "      <td>NaN</td>\n",
       "      <td>NaN</td>\n",
       "      <td>8602.93</td>\n",
       "      <td>10889.78</td>\n",
       "      <td>22</td>\n",
       "      <td>Fernando</td>\n",
       "      <td>Gómez</td>\n",
       "      <td>Garcia</td>\n",
       "    </tr>\n",
       "    <tr>\n",
       "      <th>3</th>\n",
       "      <td>3</td>\n",
       "      <td>7</td>\n",
       "      <td>Fernando Gómez Garcia</td>\n",
       "      <td>DEPORTES REUNIDOS, S.L.</td>\n",
       "      <td>ESPAÑA</td>\n",
       "      <td>MADRID</td>\n",
       "      <td>MADRID</td>\n",
       "      <td>Centro</td>\n",
       "      <td>Mountain bike</td>\n",
       "      <td>NaN</td>\n",
       "      <td>...</td>\n",
       "      <td>NaN</td>\n",
       "      <td>NaN</td>\n",
       "      <td>NaN</td>\n",
       "      <td>NaN</td>\n",
       "      <td>997.74</td>\n",
       "      <td>1187.78</td>\n",
       "      <td>22</td>\n",
       "      <td>Fernando</td>\n",
       "      <td>Gómez</td>\n",
       "      <td>Garcia</td>\n",
       "    </tr>\n",
       "    <tr>\n",
       "      <th>4</th>\n",
       "      <td>3</td>\n",
       "      <td>11</td>\n",
       "      <td>Fernando Gómez Garcia</td>\n",
       "      <td>DEPORTES REUNIDOS, S.L.</td>\n",
       "      <td>ESPAÑA</td>\n",
       "      <td>MADRID</td>\n",
       "      <td>MADRID</td>\n",
       "      <td>Centro</td>\n",
       "      <td>Bicicleta carrera modelo C</td>\n",
       "      <td>NaN</td>\n",
       "      <td>...</td>\n",
       "      <td>NaN</td>\n",
       "      <td>NaN</td>\n",
       "      <td>NaN</td>\n",
       "      <td>NaN</td>\n",
       "      <td>9385.03</td>\n",
       "      <td>11879.78</td>\n",
       "      <td>22</td>\n",
       "      <td>Fernando</td>\n",
       "      <td>Gómez</td>\n",
       "      <td>Garcia</td>\n",
       "    </tr>\n",
       "    <tr>\n",
       "      <th>...</th>\n",
       "      <td>...</td>\n",
       "      <td>...</td>\n",
       "      <td>...</td>\n",
       "      <td>...</td>\n",
       "      <td>...</td>\n",
       "      <td>...</td>\n",
       "      <td>...</td>\n",
       "      <td>...</td>\n",
       "      <td>...</td>\n",
       "      <td>...</td>\n",
       "      <td>...</td>\n",
       "      <td>...</td>\n",
       "      <td>...</td>\n",
       "      <td>...</td>\n",
       "      <td>...</td>\n",
       "      <td>...</td>\n",
       "      <td>...</td>\n",
       "      <td>...</td>\n",
       "      <td>...</td>\n",
       "      <td>...</td>\n",
       "      <td>...</td>\n",
       "    </tr>\n",
       "    <tr>\n",
       "      <th>2094</th>\n",
       "      <td>20</td>\n",
       "      <td>9</td>\n",
       "      <td>Juanjo Pérez Romero</td>\n",
       "      <td>DEPORTES DE RUEDAS, S.L.</td>\n",
       "      <td>ESPAÑA</td>\n",
       "      <td>CASTILLA-LEON</td>\n",
       "      <td>AVILA</td>\n",
       "      <td>Centro</td>\n",
       "      <td>Bicicleta tres asientos</td>\n",
       "      <td>NaN</td>\n",
       "      <td>...</td>\n",
       "      <td>NaN</td>\n",
       "      <td>NaN</td>\n",
       "      <td>NaN</td>\n",
       "      <td>NaN</td>\n",
       "      <td>1376.97</td>\n",
       "      <td>1619.96</td>\n",
       "      <td>4</td>\n",
       "      <td>Juanjo</td>\n",
       "      <td>Pérez</td>\n",
       "      <td>Romero</td>\n",
       "    </tr>\n",
       "    <tr>\n",
       "      <th>2095</th>\n",
       "      <td>1</td>\n",
       "      <td>3</td>\n",
       "      <td>Fernando Gómez Garcia</td>\n",
       "      <td>SPORTS ABC</td>\n",
       "      <td>ESPAÑA</td>\n",
       "      <td>CATALUNYA</td>\n",
       "      <td>BARCELONA</td>\n",
       "      <td>Este</td>\n",
       "      <td>Bicicleta dual</td>\n",
       "      <td>NaN</td>\n",
       "      <td>...</td>\n",
       "      <td>NaN</td>\n",
       "      <td>NaN</td>\n",
       "      <td>NaN</td>\n",
       "      <td>NaN</td>\n",
       "      <td>1070.97</td>\n",
       "      <td>1259.96</td>\n",
       "      <td>4</td>\n",
       "      <td>Fernando</td>\n",
       "      <td>Gómez</td>\n",
       "      <td>Garcia</td>\n",
       "    </tr>\n",
       "    <tr>\n",
       "      <th>2096</th>\n",
       "      <td>1</td>\n",
       "      <td>9</td>\n",
       "      <td>Fernando Gómez Garcia</td>\n",
       "      <td>SPORTS ABC</td>\n",
       "      <td>ESPAÑA</td>\n",
       "      <td>CATALUNYA</td>\n",
       "      <td>BARCELONA</td>\n",
       "      <td>Este</td>\n",
       "      <td>Bicicleta tres asientos</td>\n",
       "      <td>NaN</td>\n",
       "      <td>...</td>\n",
       "      <td>NaN</td>\n",
       "      <td>NaN</td>\n",
       "      <td>NaN</td>\n",
       "      <td>NaN</td>\n",
       "      <td>1376.97</td>\n",
       "      <td>1619.96</td>\n",
       "      <td>4</td>\n",
       "      <td>Fernando</td>\n",
       "      <td>Gómez</td>\n",
       "      <td>Garcia</td>\n",
       "    </tr>\n",
       "    <tr>\n",
       "      <th>2097</th>\n",
       "      <td>2</td>\n",
       "      <td>3</td>\n",
       "      <td>Juanjo Pérez Romero</td>\n",
       "      <td>SPORTI, S.A.</td>\n",
       "      <td>ESPAÑA</td>\n",
       "      <td>CATALUNYA</td>\n",
       "      <td>BARCELONA</td>\n",
       "      <td>Este</td>\n",
       "      <td>Bicicleta dual</td>\n",
       "      <td>NaN</td>\n",
       "      <td>...</td>\n",
       "      <td>NaN</td>\n",
       "      <td>NaN</td>\n",
       "      <td>NaN</td>\n",
       "      <td>NaN</td>\n",
       "      <td>1329.96</td>\n",
       "      <td>1329.96</td>\n",
       "      <td>4</td>\n",
       "      <td>Juanjo</td>\n",
       "      <td>Pérez</td>\n",
       "      <td>Romero</td>\n",
       "    </tr>\n",
       "    <tr>\n",
       "      <th>2098</th>\n",
       "      <td>2</td>\n",
       "      <td>9</td>\n",
       "      <td>Juanjo Pérez Romero</td>\n",
       "      <td>SPORTI, S.A.</td>\n",
       "      <td>ESPAÑA</td>\n",
       "      <td>CATALUNYA</td>\n",
       "      <td>BARCELONA</td>\n",
       "      <td>Este</td>\n",
       "      <td>Bicicleta tres asientos</td>\n",
       "      <td>NaN</td>\n",
       "      <td>...</td>\n",
       "      <td>NaN</td>\n",
       "      <td>NaN</td>\n",
       "      <td>NaN</td>\n",
       "      <td>NaN</td>\n",
       "      <td>1709.96</td>\n",
       "      <td>1709.96</td>\n",
       "      <td>4</td>\n",
       "      <td>Juanjo</td>\n",
       "      <td>Pérez</td>\n",
       "      <td>Romero</td>\n",
       "    </tr>\n",
       "  </tbody>\n",
       "</table>\n",
       "<p>2099 rows × 64 columns</p>\n",
       "</div>"
      ],
      "text/plain": [
       "      CODCLI  CODART           Repesentante                   Cliente    Pais  \\\n",
       "0          3       1  Fernando Gómez Garcia   DEPORTES REUNIDOS, S.L.  ESPAÑA   \n",
       "1          3       2  Fernando Gómez Garcia   DEPORTES REUNIDOS, S.L.  ESPAÑA   \n",
       "2          3       5  Fernando Gómez Garcia   DEPORTES REUNIDOS, S.L.  ESPAÑA   \n",
       "3          3       7  Fernando Gómez Garcia   DEPORTES REUNIDOS, S.L.  ESPAÑA   \n",
       "4          3      11  Fernando Gómez Garcia   DEPORTES REUNIDOS, S.L.  ESPAÑA   \n",
       "...      ...     ...                    ...                       ...     ...   \n",
       "2094      20       9    Juanjo Pérez Romero  DEPORTES DE RUEDAS, S.L.  ESPAÑA   \n",
       "2095       1       3  Fernando Gómez Garcia                SPORTS ABC  ESPAÑA   \n",
       "2096       1       9  Fernando Gómez Garcia                SPORTS ABC  ESPAÑA   \n",
       "2097       2       3    Juanjo Pérez Romero              SPORTI, S.A.  ESPAÑA   \n",
       "2098       2       9    Juanjo Pérez Romero              SPORTI, S.A.  ESPAÑA   \n",
       "\n",
       "     Comunidad autónoma  Provincia    Zona                     Artículo  \\\n",
       "0                MADRID     MADRID  Centro            Bicicleta carrera   \n",
       "1                MADRID     MADRID  Centro  Bicicleta mountain infantil   \n",
       "2                MADRID     MADRID  Centro     Bicicleta carrera mod. B   \n",
       "3                MADRID     MADRID  Centro                Mountain bike   \n",
       "4                MADRID     MADRID  Centro   Bicicleta carrera modelo C   \n",
       "...                 ...        ...     ...                          ...   \n",
       "2094      CASTILLA-LEON      AVILA  Centro      Bicicleta tres asientos   \n",
       "2095          CATALUNYA  BARCELONA    Este               Bicicleta dual   \n",
       "2096          CATALUNYA  BARCELONA    Este      Bicicleta tres asientos   \n",
       "2097          CATALUNYA  BARCELONA    Este               Bicicleta dual   \n",
       "2098          CATALUNYA  BARCELONA    Este      Bicicleta tres asientos   \n",
       "\n",
       "      Familia  ...  Campo parametrizable 6  Campo parametrizable 7  \\\n",
       "0         NaN  ...                     NaN                     NaN   \n",
       "1         NaN  ...                     NaN                     NaN   \n",
       "2         NaN  ...                     NaN                     NaN   \n",
       "3         NaN  ...                     NaN                     NaN   \n",
       "4         NaN  ...                     NaN                     NaN   \n",
       "...       ...  ...                     ...                     ...   \n",
       "2094      NaN  ...                     NaN                     NaN   \n",
       "2095      NaN  ...                     NaN                     NaN   \n",
       "2096      NaN  ...                     NaN                     NaN   \n",
       "2097      NaN  ...                     NaN                     NaN   \n",
       "2098      NaN  ...                     NaN                     NaN   \n",
       "\n",
       "      Campo parametrizable 8 Campo parametrizable 9     Neto     Bruto  \\\n",
       "0                        NaN                    NaN  3350.20   4408.16   \n",
       "1                        NaN                    NaN  2161.98   2573.78   \n",
       "2                        NaN                    NaN  8602.93  10889.78   \n",
       "3                        NaN                    NaN   997.74   1187.78   \n",
       "4                        NaN                    NaN  9385.03  11879.78   \n",
       "...                      ...                    ...      ...       ...   \n",
       "2094                     NaN                    NaN  1376.97   1619.96   \n",
       "2095                     NaN                    NaN  1070.97   1259.96   \n",
       "2096                     NaN                    NaN  1376.97   1619.96   \n",
       "2097                     NaN                    NaN  1329.96   1329.96   \n",
       "2098                     NaN                    NaN  1709.96   1709.96   \n",
       "\n",
       "      Unidades    nombre materno paterno  \n",
       "0            8  Fernando   Gómez  Garcia  \n",
       "1           22  Fernando   Gómez  Garcia  \n",
       "2           22  Fernando   Gómez  Garcia  \n",
       "3           22  Fernando   Gómez  Garcia  \n",
       "4           22  Fernando   Gómez  Garcia  \n",
       "...        ...       ...     ...     ...  \n",
       "2094         4    Juanjo   Pérez  Romero  \n",
       "2095         4  Fernando   Gómez  Garcia  \n",
       "2096         4  Fernando   Gómez  Garcia  \n",
       "2097         4    Juanjo   Pérez  Romero  \n",
       "2098         4    Juanjo   Pérez  Romero  \n",
       "\n",
       "[2099 rows x 64 columns]"
      ]
     },
     "execution_count": 32,
     "metadata": {},
     "output_type": "execute_result"
    }
   ],
   "source": [
    "#pbf.split_column_delimiter('Repesentante', ['nombre','materno','paterno'], ' ')"
   ]
  }
 ],
 "metadata": {
  "kernelspec": {
   "display_name": "Python 3",
   "language": "python",
   "name": "python3"
  },
  "language_info": {
   "codemirror_mode": {
    "name": "ipython",
    "version": 3
   },
   "file_extension": ".py",
   "mimetype": "text/x-python",
   "name": "python",
   "nbconvert_exporter": "python",
   "pygments_lexer": "ipython3",
   "version": "3.8.8"
  }
 },
 "nbformat": 4,
 "nbformat_minor": 5
}
